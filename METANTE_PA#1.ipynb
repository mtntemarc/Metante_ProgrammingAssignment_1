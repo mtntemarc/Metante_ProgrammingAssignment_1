{
 "cells": [
  {
   "cell_type": "markdown",
   "id": "4cd6d5a6-df6d-41cd-bd3d-f60a2a63a358",
   "metadata": {},
   "source": [
    "# Programming Assignment # 1 \n",
    "\n",
    "#### Marc Gabriel G. Metante 2ECE-C"
   ]
  },
  {
   "cell_type": "code",
   "execution_count": 3,
   "id": "5fb13605-2106-41ec-a8cb-4edb1c408dfa",
   "metadata": {},
   "outputs": [
    {
     "name": "stdin",
     "output_type": "stream",
     "text": [
      "Enter Sentence:  a quick brown fox jumped over the lazy dog\n"
     ]
    },
    {
     "name": "stdout",
     "output_type": "stream",
     "text": [
      "        aabcddeeefghijklmnoooopqrrtuuvwxyz\n"
     ]
    }
   ],
   "source": [
    "# ALPHABET SOUP PROBLEM: \n",
    "# Create a function that takes a string and returns a string with its letters in alphabetical order.\n",
    "\n",
    "# Start Program\n",
    "\n",
    "# Define Function \n",
    "def alphabet_soup(string):\n",
    "\n",
    "    # Sort Characters\n",
    "    char_list = list(string)\n",
    "\n",
    "    # Sort the list in an alphabetical order\n",
    "    sorted_list = sorted(char_list)\n",
    "\n",
    "    # Combines all the characters in one string\n",
    "    sorted_string = ''.join(sorted_list)\n",
    "    \n",
    "    return sorted_string\n",
    "\n",
    "# Input\n",
    "user_input = input(\"Enter Sentence: \")\n",
    "\n",
    "# Output\n",
    "print(alphabet_soup(user_input))\n"
   ]
  },
  {
   "cell_type": "code",
   "execution_count": null,
   "id": "bc4b8406-94de-4c65-a350-3527e8968316",
   "metadata": {},
   "outputs": [],
   "source": [
    "# Emoticon Problem\n",
    "# Create a function that changes specific words into emoticons. Given a sentence as a string, replace the words smile, grin, sad and mad with their corresponding emoticon.\n",
    "\n",
    "# Start Program\n",
    "\n",
    "# Define Function\n",
    "def emotify(sentence):\n",
    "    # Split the sentence into a list of words\n",
    "    words = sentence.split()\n",
    "\n",
    "    # Initialize an empty list to store the converted words or emoticons\n",
    "    result = []\n",
    "\n",
    "    # Use of If Else Statement\n",
    "    for word in words:\n",
    "        if word == \"smile\":\n",
    "            result.append(\":)\")\n",
    "        elif word == \"grin\":\n",
    "            result.append(\":D\")\n",
    "        elif word == \"sad\":\n",
    "            result.append(\":((\")\n",
    "        elif word == \"mad\":\n",
    "            result.append(\">:(\")\n",
    "        else:\n",
    "            # keep it as is, if it does not match anything\n",
    "            result.append(word)\n",
    "\n",
    "    # Joins into a single string\n",
    "    return ' '.join(result)\n",
    "\n",
    "# Input\n",
    "user_input = input(\"Enter Sentence: \")\n",
    "\n",
    "# Output\n",
    "print(emotify(user_input))\n",
    "\n"
   ]
  },
  {
   "cell_type": "code",
   "execution_count": 4,
   "id": "0145701f-29d2-4521-b7d5-15709389b70d",
   "metadata": {},
   "outputs": [
    {
     "name": "stdout",
     "output_type": "stream",
     "text": [
      "first: 1\n",
      "middle: [2, 3, 4, 5]\n",
      "last: 6\n"
     ]
    }
   ],
   "source": [
    "# UNPACKING LIST PROBLEM \n",
    "# Unpack the list writeyourcodehere into three variables, being first, middle, and last, with middle being everything in between the first and last element. Then print all three variables.\n",
    "\n",
    "# Start Program\n",
    "# List\n",
    "lst = [1, 2, 3, 4, 5, 6]\n",
    "\n",
    "# Set Code to differentiate the first, middle, and last.\n",
    "\n",
    "first = lst[0] # first index 0\n",
    "\n",
    "last = lst[-1] # -1, therefore it would count backward\n",
    "\n",
    "middle = lst[1:-1] # Counts the first index (second) til it stops to the last index\n",
    "\n",
    "# Output\n",
    "print(\"first:\", first)\n",
    "print(\"middle:\", middle)\n",
    "print(\"last:\", last)\n"
   ]
  }
 ],
 "metadata": {
  "kernelspec": {
   "display_name": "Python [conda env:base] *",
   "language": "python",
   "name": "conda-base-py"
  },
  "language_info": {
   "codemirror_mode": {
    "name": "ipython",
    "version": 3
   },
   "file_extension": ".py",
   "mimetype": "text/x-python",
   "name": "python",
   "nbconvert_exporter": "python",
   "pygments_lexer": "ipython3",
   "version": "3.13.5"
  }
 },
 "nbformat": 4,
 "nbformat_minor": 5
}
